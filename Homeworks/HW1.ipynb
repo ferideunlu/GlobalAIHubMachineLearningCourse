{
 "cells": [
  {
   "cell_type": "markdown",
   "metadata": {},
   "source": [
    "# Homework 1"
   ]
  },
  {
   "cell_type": "markdown",
   "metadata": {},
   "source": [
    "1) How would you define Machine Learning?\n",
    "\n",
    "* Machine learning focuses on applications that learn from experience and improve their decision-making or predictive accuracy over time."
   ]
  },
  {
   "cell_type": "markdown",
   "metadata": {},
   "source": [
    "2) What are the differences between Supervised and Unsupervised Learning? Specify example 3 algorithms for each of these.\n",
    "\n",
    "* Supervised Learning : You have a certain number of classes, you have trained data. In other words, if the output of your data is marked according to the input value, we call this type of machine learning as Supervised Learning. Linear Regression, Logistic Regression, Decision Tree Classification etc.\n",
    "\n",
    "\n",
    "* Unsupervised Learning : Here, it is a learning style that creates certain groups with the Clustering method according to the characteristics of the data you have. Hierarchical clustering, K-means clustering, Principal Component Analysis etc."
   ]
  },
  {
   "cell_type": "markdown",
   "metadata": {},
   "source": [
    "3) What are the test and validation set, and why would you want to use them?\n",
    "\n",
    "* Train data is used to train the specific algorithm. Test data is given to the trained algorithm, and predictions are made. As a result of these operations, an accuracy value is calculated. It is determined whether the specified machine learning algorithm is suitable or not."
   ]
  },
  {
   "cell_type": "markdown",
   "metadata": {},
   "source": [
    "4) What are the main preprocessing steps? Explain them in detail. Why we need to prepare our data? \n",
    "\n",
    " * We must visualize and analyze our data first. We must remove any arguments that do not affect the result. If there is duplicate data, we must remove it. We have to extract values that cannot be recognized in the dataset. We have to do the necessary normalization procedures. We have to handle outliers.As needed, we need to do feature encoding, feature extraction. We need to split our data as train and test. Through this preprocessing, the machine learning algorithm will produce more accurate results, decrease false positives and false negatives. "
   ]
  },
  {
   "cell_type": "markdown",
   "metadata": {},
   "source": [
    "5) How you can explore and analyse countionus and discrete variables?\n",
    "* If there is continuous variable, we can analyze this data with the distribution plot. If there is a discrete variable, we can perform our analysis with pairplot or scatterplot."
   ]
  },
  {
   "cell_type": "markdown",
   "metadata": {},
   "source": [
    "6) Analyse the plot given below. (What is the plot and variable type, check the distribution and make comment about how you can preproccess it.)"
   ]
  },
  {
   "attachments": {
    "plot.PNG": {
     "image/png": "[encoded data removed]"
    }
   },
   "cell_type": "markdown",
   "metadata": {},
   "source": [
    "![plot.PNG](attachment:plot.PNG)"
   ]
  },
  {
   "cell_type": "markdown",
   "metadata": {},
   "source": [
    "This is a distribution plot with continuous variable. According to this plot, we may need to scale data to do normalization first. Then, we can handle outliers. We need to drop null values and check if there are duplicate values. Next, we need to split our data as train and test."
   ]
  },
  {
   "cell_type": "code",
   "execution_count": null,
   "metadata": {},
   "outputs": [],
   "source": []
  }
 ],
 "metadata": {
  "kernelspec": {
   "display_name": "Python 3",
   "language": "python",
   "name": "python3"
  },
  "language_info": {
   "codemirror_mode": {
    "name": "ipython",
    "version": 3
   },
   "file_extension": ".py",
   "mimetype": "text/x-python",
   "name": "python",
   "nbconvert_exporter": "python",
   "pygments_lexer": "ipython3",
   "version": "3.8.3"
  }
 },
 "nbformat": 4,
 "nbformat_minor": 4
}
